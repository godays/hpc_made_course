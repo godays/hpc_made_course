{
  "cells": [
    {
      "cell_type": "code",
      "execution_count": 1,
      "id": "c1af4522",
      "metadata": {
        "id": "c1af4522"
      },
      "outputs": [],
      "source": [
        "import json\n",
        "import numpy as np\n",
        "import matplotlib.pyplot as plt\n",
        "import pandas as pd\n",
        "from sklearn.linear_model import LinearRegression"
      ]
    },
    {
      "cell_type": "markdown",
      "id": "ebdc685f",
      "metadata": {
        "id": "ebdc685f"
      },
      "source": [
        "# 1. На основании данных рейтинга top500 спрогнозировать  производительность компьютера №1 в 2025\n"
      ]
    },
    {
      "cell_type": "markdown",
      "id": "a3a48855",
      "metadata": {
        "id": "a3a48855"
      },
      "source": [
        "На сайте лежит топ-500, а нам нужен топ-1 за каждые пол года, одногруппники скинули уже готовый Json, поэтому кода здесь не будет :)"
      ]
    },
    {
      "cell_type": "code",
      "execution_count": 2,
      "id": "9550484a",
      "metadata": {
        "id": "9550484a"
      },
      "outputs": [],
      "source": [
        "df_top_500 = pd.read_json('top500.json').T"
      ]
    },
    {
      "cell_type": "code",
      "execution_count": 3,
      "id": "6588e81e",
      "metadata": {
        "colab": {
          "base_uri": "https://localhost:8080/",
          "height": 206
        },
        "id": "6588e81e",
        "outputId": "7954b954-35d0-4649-d212-756f17cb02b9"
      },
      "outputs": [
        {
          "output_type": "execute_result",
          "data": {
            "text/plain": [
              "                          Sum                #1            #500\n",
              "1993-06-01  [1100.0, GFlop/s]   [59.7, GFlop/s]  [0.4, GFlop/s]\n",
              "1993-11-01  [1500.0, GFlop/s]  [124.0, GFlop/s]  [0.5, GFlop/s]\n",
              "1994-06-01  [2300.0, GFlop/s]  [143.4, GFlop/s]  [0.8, GFlop/s]\n",
              "1994-11-01  [2700.0, GFlop/s]  [170.0, GFlop/s]  [1.2, GFlop/s]\n",
              "1995-06-01  [3900.0, GFlop/s]  [170.0, GFlop/s]  [2.0, GFlop/s]"
            ],
            "text/html": [
              "\n",
              "  <div id=\"df-696cb200-0a72-4015-aa24-ebdd2f7c6698\">\n",
              "    <div class=\"colab-df-container\">\n",
              "      <div>\n",
              "<style scoped>\n",
              "    .dataframe tbody tr th:only-of-type {\n",
              "        vertical-align: middle;\n",
              "    }\n",
              "\n",
              "    .dataframe tbody tr th {\n",
              "        vertical-align: top;\n",
              "    }\n",
              "\n",
              "    .dataframe thead th {\n",
              "        text-align: right;\n",
              "    }\n",
              "</style>\n",
              "<table border=\"1\" class=\"dataframe\">\n",
              "  <thead>\n",
              "    <tr style=\"text-align: right;\">\n",
              "      <th></th>\n",
              "      <th>Sum</th>\n",
              "      <th>#1</th>\n",
              "      <th>#500</th>\n",
              "    </tr>\n",
              "  </thead>\n",
              "  <tbody>\n",
              "    <tr>\n",
              "      <th>1993-06-01</th>\n",
              "      <td>[1100.0, GFlop/s]</td>\n",
              "      <td>[59.7, GFlop/s]</td>\n",
              "      <td>[0.4, GFlop/s]</td>\n",
              "    </tr>\n",
              "    <tr>\n",
              "      <th>1993-11-01</th>\n",
              "      <td>[1500.0, GFlop/s]</td>\n",
              "      <td>[124.0, GFlop/s]</td>\n",
              "      <td>[0.5, GFlop/s]</td>\n",
              "    </tr>\n",
              "    <tr>\n",
              "      <th>1994-06-01</th>\n",
              "      <td>[2300.0, GFlop/s]</td>\n",
              "      <td>[143.4, GFlop/s]</td>\n",
              "      <td>[0.8, GFlop/s]</td>\n",
              "    </tr>\n",
              "    <tr>\n",
              "      <th>1994-11-01</th>\n",
              "      <td>[2700.0, GFlop/s]</td>\n",
              "      <td>[170.0, GFlop/s]</td>\n",
              "      <td>[1.2, GFlop/s]</td>\n",
              "    </tr>\n",
              "    <tr>\n",
              "      <th>1995-06-01</th>\n",
              "      <td>[3900.0, GFlop/s]</td>\n",
              "      <td>[170.0, GFlop/s]</td>\n",
              "      <td>[2.0, GFlop/s]</td>\n",
              "    </tr>\n",
              "  </tbody>\n",
              "</table>\n",
              "</div>\n",
              "      <button class=\"colab-df-convert\" onclick=\"convertToInteractive('df-696cb200-0a72-4015-aa24-ebdd2f7c6698')\"\n",
              "              title=\"Convert this dataframe to an interactive table.\"\n",
              "              style=\"display:none;\">\n",
              "        \n",
              "  <svg xmlns=\"http://www.w3.org/2000/svg\" height=\"24px\"viewBox=\"0 0 24 24\"\n",
              "       width=\"24px\">\n",
              "    <path d=\"M0 0h24v24H0V0z\" fill=\"none\"/>\n",
              "    <path d=\"M18.56 5.44l.94 2.06.94-2.06 2.06-.94-2.06-.94-.94-2.06-.94 2.06-2.06.94zm-11 1L8.5 8.5l.94-2.06 2.06-.94-2.06-.94L8.5 2.5l-.94 2.06-2.06.94zm10 10l.94 2.06.94-2.06 2.06-.94-2.06-.94-.94-2.06-.94 2.06-2.06.94z\"/><path d=\"M17.41 7.96l-1.37-1.37c-.4-.4-.92-.59-1.43-.59-.52 0-1.04.2-1.43.59L10.3 9.45l-7.72 7.72c-.78.78-.78 2.05 0 2.83L4 21.41c.39.39.9.59 1.41.59.51 0 1.02-.2 1.41-.59l7.78-7.78 2.81-2.81c.8-.78.8-2.07 0-2.86zM5.41 20L4 18.59l7.72-7.72 1.47 1.35L5.41 20z\"/>\n",
              "  </svg>\n",
              "      </button>\n",
              "      \n",
              "  <style>\n",
              "    .colab-df-container {\n",
              "      display:flex;\n",
              "      flex-wrap:wrap;\n",
              "      gap: 12px;\n",
              "    }\n",
              "\n",
              "    .colab-df-convert {\n",
              "      background-color: #E8F0FE;\n",
              "      border: none;\n",
              "      border-radius: 50%;\n",
              "      cursor: pointer;\n",
              "      display: none;\n",
              "      fill: #1967D2;\n",
              "      height: 32px;\n",
              "      padding: 0 0 0 0;\n",
              "      width: 32px;\n",
              "    }\n",
              "\n",
              "    .colab-df-convert:hover {\n",
              "      background-color: #E2EBFA;\n",
              "      box-shadow: 0px 1px 2px rgba(60, 64, 67, 0.3), 0px 1px 3px 1px rgba(60, 64, 67, 0.15);\n",
              "      fill: #174EA6;\n",
              "    }\n",
              "\n",
              "    [theme=dark] .colab-df-convert {\n",
              "      background-color: #3B4455;\n",
              "      fill: #D2E3FC;\n",
              "    }\n",
              "\n",
              "    [theme=dark] .colab-df-convert:hover {\n",
              "      background-color: #434B5C;\n",
              "      box-shadow: 0px 1px 3px 1px rgba(0, 0, 0, 0.15);\n",
              "      filter: drop-shadow(0px 1px 2px rgba(0, 0, 0, 0.3));\n",
              "      fill: #FFFFFF;\n",
              "    }\n",
              "  </style>\n",
              "\n",
              "      <script>\n",
              "        const buttonEl =\n",
              "          document.querySelector('#df-696cb200-0a72-4015-aa24-ebdd2f7c6698 button.colab-df-convert');\n",
              "        buttonEl.style.display =\n",
              "          google.colab.kernel.accessAllowed ? 'block' : 'none';\n",
              "\n",
              "        async function convertToInteractive(key) {\n",
              "          const element = document.querySelector('#df-696cb200-0a72-4015-aa24-ebdd2f7c6698');\n",
              "          const dataTable =\n",
              "            await google.colab.kernel.invokeFunction('convertToInteractive',\n",
              "                                                     [key], {});\n",
              "          if (!dataTable) return;\n",
              "\n",
              "          const docLinkHtml = 'Like what you see? Visit the ' +\n",
              "            '<a target=\"_blank\" href=https://colab.research.google.com/notebooks/data_table.ipynb>data table notebook</a>'\n",
              "            + ' to learn more about interactive tables.';\n",
              "          element.innerHTML = '';\n",
              "          dataTable['output_type'] = 'display_data';\n",
              "          await google.colab.output.renderOutput(dataTable, element);\n",
              "          const docLink = document.createElement('div');\n",
              "          docLink.innerHTML = docLinkHtml;\n",
              "          element.appendChild(docLink);\n",
              "        }\n",
              "      </script>\n",
              "    </div>\n",
              "  </div>\n",
              "  "
            ]
          },
          "metadata": {},
          "execution_count": 3
        }
      ],
      "source": [
        "df_top_500.head()"
      ]
    },
    {
      "cell_type": "markdown",
      "id": "98ebd9d4",
      "metadata": {
        "id": "98ebd9d4"
      },
      "source": [
        "нужны только даты и прозводительность"
      ]
    },
    {
      "cell_type": "code",
      "execution_count": 4,
      "id": "002ff4b3",
      "metadata": {
        "id": "002ff4b3"
      },
      "outputs": [],
      "source": [
        "top500 = df_top_500['#1'].apply(lambda x: x[0])"
      ]
    },
    {
      "cell_type": "code",
      "execution_count": 5,
      "id": "723aa70f",
      "metadata": {
        "colab": {
          "base_uri": "https://localhost:8080/"
        },
        "id": "723aa70f",
        "outputId": "72bed54c-e45f-4e3b-ec55-ddfa23c51862"
      },
      "outputs": [
        {
          "output_type": "execute_result",
          "data": {
            "text/plain": [
              "1993-06-01     59.7\n",
              "1993-11-01    124.0\n",
              "1994-06-01    143.4\n",
              "1994-11-01    170.0\n",
              "1995-06-01    170.0\n",
              "Name: #1, dtype: float64"
            ]
          },
          "metadata": {},
          "execution_count": 5
        }
      ],
      "source": [
        "top500.head()"
      ]
    },
    {
      "cell_type": "code",
      "execution_count": 18,
      "id": "e37e7eb7",
      "metadata": {
        "colab": {
          "base_uri": "https://localhost:8080/",
          "height": 527
        },
        "id": "e37e7eb7",
        "outputId": "a65ad9a4-ccae-4c70-88ec-08836a1eab92"
      },
      "outputs": [
        {
          "output_type": "display_data",
          "data": {
            "text/plain": [
              "<Figure size 864x576 with 1 Axes>"
            ],
            "image/png": "[encoded data removed]"
          },
          "metadata": {
            "needs_background": "light"
          }
        }
      ],
      "source": [
        "fig, ax = plt.subplots(figsize=(12, 8))\n",
        "\n",
        "ax.plot(top500.keys(), top500.values)\n",
        "ax.set_xlabel(\"Date\", fontsize=14)\n",
        "ax.set_ylabel(\"GFlop/s\", fontsize=14)\n",
        "plt.xticks(rotation = 90);"
      ]
    },
    {
      "cell_type": "markdown",
      "source": [
        "напоминает логарифмическую зависимость, посмотрим в лог. масштабе"
      ],
      "metadata": {
        "id": "PTc6E7LIYCQ0"
      },
      "id": "PTc6E7LIYCQ0"
    },
    {
      "cell_type": "code",
      "execution_count": 58,
      "id": "339fc795",
      "metadata": {
        "colab": {
          "base_uri": "https://localhost:8080/",
          "height": 516
        },
        "id": "339fc795",
        "outputId": "1836416b-a9d1-4236-87b5-812d2f4ec9f3"
      },
      "outputs": [
        {
          "output_type": "display_data",
          "data": {
            "text/plain": [
              "<Figure size 864x576 with 1 Axes>"
            ],
            "image/png": "[encoded data removed]"
          },
          "metadata": {
            "needs_background": "light"
          }
        }
      ],
      "source": [
        "fig, ax = plt.subplots(figsize=(12, 8))\n",
        "\n",
        "ax.plot(top500.keys(), np.log(top500.values))\n",
        "ax.set_xlabel(\"Date\", fontsize=14)\n",
        "ax.set_ylabel(\"GFlop/s\", fontsize=14)\n",
        "plt.xticks(rotation = 90);"
      ]
    },
    {
      "cell_type": "markdown",
      "source": [
        "для прогнозирования подойдет линейная регрессия"
      ],
      "metadata": {
        "id": "ZNLC1iB2YSlr"
      },
      "id": "ZNLC1iB2YSlr"
    },
    {
      "cell_type": "code",
      "source": [
        "x = np.array(list(range(top500.shape[0])))[:, None]\n",
        "y = np.log(top500.values)"
      ],
      "metadata": {
        "id": "rJsZOzJrYQmj"
      },
      "id": "rJsZOzJrYQmj",
      "execution_count": 39,
      "outputs": []
    },
    {
      "cell_type": "code",
      "source": [
        "lin_reg_model = LinearRegression(normalize=True)"
      ],
      "metadata": {
        "id": "hHtOxPG-YzgT"
      },
      "id": "hHtOxPG-YzgT",
      "execution_count": 40,
      "outputs": []
    },
    {
      "cell_type": "code",
      "source": [
        "lin_reg_model.fit(x, y)"
      ],
      "metadata": {
        "id": "mmStRHkhY9NY"
      },
      "id": "mmStRHkhY9NY",
      "execution_count": null,
      "outputs": []
    },
    {
      "cell_type": "code",
      "source": [
        "dates_to_predict = {\n",
        "    59: \"11/2022\",\n",
        "    60: \"06/2023\",\n",
        "    61: \"11/2023\",\n",
        "    62: \"06/2024\",\n",
        "    63: \"11/2024\",\n",
        "    64: \"06/2025\",\n",
        "    65: \"11/2025\"\n",
        "}"
      ],
      "metadata": {
        "id": "JanHAOLtY_MW"
      },
      "id": "JanHAOLtY_MW",
      "execution_count": 66,
      "outputs": []
    },
    {
      "cell_type": "code",
      "source": [
        "list(dates_to_predict.values())"
      ],
      "metadata": {
        "colab": {
          "base_uri": "https://localhost:8080/"
        },
        "id": "d8dmxR-cc5dP",
        "outputId": "ee47283c-2bfe-4ea2-a994-261a319b174a"
      },
      "id": "d8dmxR-cc5dP",
      "execution_count": 68,
      "outputs": [
        {
          "output_type": "execute_result",
          "data": {
            "text/plain": [
              "['11/2022', '06/2023', '11/2023', '06/2024', '11/2024', '06/2025', '11/2025']"
            ]
          },
          "metadata": {},
          "execution_count": 68
        }
      ]
    },
    {
      "cell_type": "code",
      "source": [
        "list(pd.Series(dates_to_predict.values()).apply(pd.Timestamp))"
      ],
      "metadata": {
        "colab": {
          "base_uri": "https://localhost:8080/"
        },
        "id": "5pzJg6mSbAvB",
        "outputId": "61fd03f4-8fa6-461c-9a34-37462e16e144"
      },
      "id": "5pzJg6mSbAvB",
      "execution_count": 81,
      "outputs": [
        {
          "output_type": "execute_result",
          "data": {
            "text/plain": [
              "Timestamp('2022-11-01 00:00:00')"
            ]
          },
          "metadata": {},
          "execution_count": 81
        }
      ]
    },
    {
      "cell_type": "code",
      "source": [
        "x_test = np.array(list(range(top500.shape[0])) + list(dates_to_predict.keys()))[:, None]"
      ],
      "metadata": {
        "id": "FgJUH8ngZi3Z"
      },
      "id": "FgJUH8ngZi3Z",
      "execution_count": 52,
      "outputs": []
    },
    {
      "cell_type": "code",
      "source": [
        "predicted = np.exp(lin_reg_model.predict(x_test))"
      ],
      "metadata": {
        "id": "OvfH702jZ07c"
      },
      "id": "OvfH702jZ07c",
      "execution_count": 53,
      "outputs": []
    },
    {
      "cell_type": "code",
      "source": [
        "fig, ax = plt.subplots(figsize=(12, 8))\n",
        "\n",
        "ax.plot(top500.keys(), top500.values, label=\"real\")\n",
        "ax.plot(list(top500.keys()) + list(pd.Series(dates_to_predict.values()).apply(pd.Timestamp)), predicted, color=\"r\", label=\"prediction\")\n",
        "ax.set_xlabel(\"Date\", fontsize=14)\n",
        "ax.set_ylabel(\"GFlop/s\", fontsize=14)\n",
        "ax.legend()\n",
        "plt.xticks(rotation = 90);\n",
        "plt.yscale(\"log\")"
      ],
      "metadata": {
        "colab": {
          "base_uri": "https://localhost:8080/",
          "height": 516
        },
        "id": "XGHxXFVFZ63k",
        "outputId": "8ec1e20f-3c8f-4ac5-fa16-e3d6a07590d5"
      },
      "id": "XGHxXFVFZ63k",
      "execution_count": 83,
      "outputs": [
        {
          "output_type": "display_data",
          "data": {
            "text/plain": [
              "<Figure size 864x576 with 1 Axes>"
            ],
            "image/png": "[encoded data removed]"
          },
          "metadata": {
            "needs_background": "light"
          }
        }
      ]
    },
    {
      "cell_type": "markdown",
      "source": [
        "В конце 2025 года по прогнозам мы получим производительность:"
      ],
      "metadata": {
        "id": "B573KQT-dzbQ"
      },
      "id": "B573KQT-dzbQ"
    },
    {
      "cell_type": "code",
      "source": [
        "print(f\"{predicted[-1]/ 1e9} EFlop/s\")"
      ],
      "metadata": {
        "colab": {
          "base_uri": "https://localhost:8080/"
        },
        "id": "hP5DwIFyaJD3",
        "outputId": "ecec861c-83ca-455d-e35e-fbb38abacc54"
      },
      "id": "hP5DwIFyaJD3",
      "execution_count": 84,
      "outputs": [
        {
          "output_type": "stream",
          "name": "stdout",
          "text": [
            "14.838624469265383 EFlop/s\n"
          ]
        }
      ]
    },
    {
      "cell_type": "markdown",
      "source": [
        "Ответ: 14.83 EFlop/s"
      ],
      "metadata": {
        "id": "PiHgtqjod-58"
      },
      "id": "PiHgtqjod-58"
    },
    {
      "cell_type": "markdown",
      "source": [
        "# 2 оцените какой процент всего производимого на Земле электричества потребляют все компьютеры из top500 (на основании открытых данных top500.org)"
      ],
      "metadata": {
        "id": "WHLpauPaeEsS"
      },
      "id": "WHLpauPaeEsS"
    },
    {
      "cell_type": "code",
      "source": [
        "data = pd.read_excel('TOP500_202206.xlsx')"
      ],
      "metadata": {
        "id": "Qk1jOzqRd90d"
      },
      "id": "Qk1jOzqRd90d",
      "execution_count": 99,
      "outputs": []
    },
    {
      "cell_type": "markdown",
      "source": [
        "суммарное потребление энергии"
      ],
      "metadata": {
        "id": "xHrMsjm_e295"
      },
      "id": "xHrMsjm_e295"
    },
    {
      "cell_type": "code",
      "source": [
        "data['Power (kW)'].isna().sum()"
      ],
      "metadata": {
        "colab": {
          "base_uri": "https://localhost:8080/"
        },
        "id": "TRNLCf3vkArT",
        "outputId": "2ed3d2bc-9550-4998-a070-2b7d38a7555b"
      },
      "id": "TRNLCf3vkArT",
      "execution_count": 136,
      "outputs": [
        {
          "output_type": "execute_result",
          "data": {
            "text/plain": [
              "309"
            ]
          },
          "metadata": {},
          "execution_count": 136
        }
      ]
    },
    {
      "cell_type": "markdown",
      "source": [
        "у нас нет данных по 309 компьюетрам, будем рассматривать итоговый ответ только для оставшихся компьютеров"
      ],
      "metadata": {
        "id": "Ar_0NZg6j_7H"
      },
      "id": "Ar_0NZg6j_7H"
    },
    {
      "cell_type": "code",
      "source": [
        "top500_sum_energy = data['Power (kW)'].dropna().sum()"
      ],
      "metadata": {
        "id": "_jNuUqTJeoYR"
      },
      "id": "_jNuUqTJeoYR",
      "execution_count": 137,
      "outputs": []
    },
    {
      "cell_type": "code",
      "source": [
        "top500_sum_energy"
      ],
      "metadata": {
        "colab": {
          "base_uri": "https://localhost:8080/"
        },
        "id": "TiIl3-24ezsM",
        "outputId": "5d75da53-ccc7-40e2-80cf-415f4a4e749a"
      },
      "id": "TiIl3-24ezsM",
      "execution_count": 138,
      "outputs": [
        {
          "output_type": "execute_result",
          "data": {
            "text/plain": [
              "340486.45"
            ]
          },
          "metadata": {},
          "execution_count": 138
        }
      ]
    },
    {
      "cell_type": "code",
      "source": [
        "top500_power = top500_sum_energy * 24 * 365 # Умножаем на количество часов в году"
      ],
      "metadata": {
        "id": "ZVeH6jb8e6Qe"
      },
      "id": "ZVeH6jb8e6Qe",
      "execution_count": 139,
      "outputs": []
    },
    {
      "cell_type": "code",
      "source": [
        "top500_power"
      ],
      "metadata": {
        "colab": {
          "base_uri": "https://localhost:8080/"
        },
        "id": "TKt2yTsdfdeg",
        "outputId": "c4526b10-929a-49e8-cfd0-fd8de5357dac"
      },
      "id": "TKt2yTsdfdeg",
      "execution_count": 140,
      "outputs": [
        {
          "output_type": "execute_result",
          "data": {
            "text/plain": [
              "2982661302.0000005"
            ]
          },
          "metadata": {},
          "execution_count": 140
        }
      ]
    },
    {
      "cell_type": "markdown",
      "source": [
        "по данным https://energystats.enerdata.net/total-energy/world-consumption-statistics.html потребление электроэнергии составило около 1400 Mtoe"
      ],
      "metadata": {
        "id": "r1kTgpy_gVV0"
      },
      "id": "r1kTgpy_gVV0"
    },
    {
      "cell_type": "code",
      "source": [
        "world_enegry = 1400 * 11630000000"
      ],
      "metadata": {
        "id": "nTZjymLvfkFm"
      },
      "id": "nTZjymLvfkFm",
      "execution_count": 141,
      "outputs": []
    },
    {
      "cell_type": "code",
      "source": [
        "print(f\"{round(((top500_power / world_enegry) * 100), 4)}% потребляют суперкомпьютеры (191 из топ 500 по которым есть данные) от производимого эл-ва\")"
      ],
      "metadata": {
        "colab": {
          "base_uri": "https://localhost:8080/"
        },
        "id": "z17qM0Gtgknt",
        "outputId": "b3312853-d762-46a8-f45b-b60f177d41e0"
      },
      "id": "z17qM0Gtgknt",
      "execution_count": 143,
      "outputs": [
        {
          "output_type": "stream",
          "name": "stdout",
          "text": [
            "0.0183% потребляют суперкомпьютеры (191 из топ 500 по которым есть данные) от производимого эл-ва\n"
          ]
        }
      ]
    }
  ],
  "metadata": {
    "kernelspec": {
      "display_name": "Python 3 (ipykernel)",
      "language": "python",
      "name": "python3"
    },
    "language_info": {
      "codemirror_mode": {
        "name": "ipython",
        "version": 3
      },
      "file_extension": ".py",
      "mimetype": "text/x-python",
      "name": "python",
      "nbconvert_exporter": "python",
      "pygments_lexer": "ipython3",
      "version": "3.8.13"
    },
    "colab": {
      "provenance": []
    }
  },
  "nbformat": 4,
  "nbformat_minor": 5
}